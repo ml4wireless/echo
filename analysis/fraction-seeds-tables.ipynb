{
 "cells": [
  {
   "cell_type": "code",
   "execution_count": 1,
   "metadata": {},
   "outputs": [],
   "source": [
    "import numpy as np\n",
    "import os\n",
    "import itertools\n",
    "from collections import defaultdict\n",
    "import matplotlib \n",
    "from matplotlib import pyplot as plt\n",
    "%matplotlib inline\n",
    "import sys\n",
    "sys.path.append(\"../utils\")\n",
    "sys.path.append(\"../\")\n",
    "import utils.util_lookup_table\n",
    "# import utils.util_data\n",
    "from pprint import pprint"
   ]
  },
  {
   "cell_type": "markdown",
   "metadata": {},
   "source": [
    "# Global Styles"
   ]
  },
  {
   "cell_type": "code",
   "execution_count": 2,
   "metadata": {},
   "outputs": [],
   "source": [
    "MOD_ORDERS = {2: \"QPSK\", 3: \"8PSK\", 4: \"QAM16\"}\n",
    "MOD2BPS = {'QPSK': 2, '8PSK': 3, 'QAM16': 4}"
   ]
  },
  {
   "cell_type": "code",
   "execution_count": 16,
   "metadata": {},
   "outputs": [],
   "source": [
    "def tabulate_fraction_trials(includes, excludes, bps=None, snr=None, k=0):\n",
    "    _bps=bps\n",
    "    _snr=snr\n",
    "    br = utils.util_lookup_table.BER_lookup_table()\n",
    "\n",
    "    for experiment_name in os.listdir(\"./results/\"):\n",
    "        if (not all([_ in experiment_name for _ in must_include])) \\\n",
    "            or any([_ in experiment_name for _ in must_exclude]):\n",
    "            continue\n",
    "        print(experiment_name)\n",
    "        k+=1\n",
    "        f = os.path.join(\"./results\", experiment_name)\n",
    "        models = \"_\".join(experiment_name[:-4].split(\"_\")[3:])\n",
    "        protocol = \"_\".join(experiment_name[:-4].split(\"_\")[:2])\n",
    "#         print(models)\n",
    "        order = experiment_name[:-4].split(\"_\")[2]\n",
    "        if bps is None:\n",
    "            _bps = MOD2BPS[order]\n",
    "#             print(\"Using BPS={} for mod_order {}\".format(_bps, order))\n",
    "        # snr = float(snr.replace(\"_\",\".\"))\n",
    "        r = np.load(f, allow_pickle=True).item()  \n",
    "        # snr = 8.4\n",
    "        try:\n",
    "            if snr is None:\n",
    "                _snr = sorted(r.keys())[0]\n",
    "#                 print(\"Using lowest SNR {}\".format(_snr))\n",
    "            r = r[_snr]\n",
    "        except KeyError as e:\n",
    "            print(\"Available SNRs: {}\".format(list(r.keys())))\n",
    "            raise e\n",
    "        experiment_name = experiment_name[:-4]\n",
    "#         print(protocol, experiment_name, _snr)\n",
    "        fs_x = np.fliplr(np.array(r['test_SNR_dbs']).reshape((1, 6)))[0]\n",
    "        # print(r['test_SNR_dbs'])\n",
    "        fs_mid = np.fliplr(np.array(r['BER_mid']).reshape((1, 6)))[0]\n",
    "        fs_low = np.fliplr(np.array(r['BER_low']).reshape((1, 6)))[0]\n",
    "        fs_high = np.fliplr(np.array(r['BER_high']).reshape((1, 6)))[0]\n",
    "\n",
    "        label = \"_\".join([models, order, protocol, \"{}_dB_SNR\".format(_snr)])\n",
    "        label=label.replace(\"_\", \" \").title().replace(\n",
    "            \"Vs\", \"and\").replace(\n",
    "            \"Ppo\", \"PPO\").replace(\n",
    "            \"Pg\", \"PG\").replace(\n",
    "            \"Sgd\", \"SGD\").replace(\n",
    "            \"Gradient Passing\", \"GP\").replace(\n",
    "            \"Loss Passing\", \"LP\").replace(\n",
    "            \"Shared Preamble\", \"ESP\").replace(\n",
    "            \"Private Preamble\", \"EPP\").replace(\n",
    "            \"Qpsk\", \"QPSK\").replace(\n",
    "            \"8Psk\", \"8PSK\").replace(\n",
    "            \"Qam16\", \"QAM16\").replace(\n",
    "            \"Snr\", \"SNR\").replace(\n",
    "            \"Db\", \"dB\")\n",
    "        print(label)\n",
    "        \n",
    "        symbols_sent = r['symbols_sent']\n",
    "        fraction_3db = r['3db_off']\n",
    "        try:\n",
    "            idx = np.nonzero(fraction_3db >= 0.9)[0][0]\n",
    "            print(\"90% 3dB @symbols_sent = {}\\n\".format(symbols_sent[idx]))\n",
    "        except IndexError:\n",
    "            pass\n",
    "        print(\"Max fraction achieved {:0.3f} @ {} symbols\\n\".format(\n",
    "            np.max(fraction_3db), np.max(symbols_sent)))\n",
    "            \n",
    "            "
   ]
  },
  {
   "cell_type": "markdown",
   "metadata": {},
   "source": [
    "# Journal Tables"
   ]
  },
  {
   "cell_type": "markdown",
   "metadata": {},
   "source": [
    "## Neural Fast EPP"
   ]
  },
  {
   "cell_type": "code",
   "execution_count": 4,
   "metadata": {
    "scrolled": false
   },
   "outputs": [
    {
     "name": "stdout",
     "output_type": "stream",
     "text": [
      "private_preamble_QPSK_neural_fast_vs_poly_slow.npy\n",
      "Neural Fast and Poly Slow QPSK EPP 8.4 dB SNR\n",
      "90% 3dB @symbols_sent = 528384\n",
      "\n",
      "private_preamble_QPSK_neural_fast_vs_neural_fast.npy\n",
      "Neural Fast and Neural Fast QPSK EPP 8.4 dB SNR\n",
      "90% 3dB @symbols_sent = 115200\n",
      "\n",
      "private_preamble_QPSK_neural_fast_vs_classic.npy\n",
      "Neural Fast and Classic QPSK EPP 8.4 dB SNR\n",
      "90% 3dB @symbols_sent = 18432\n",
      "\n",
      "private_preamble_QPSK_neural_fast_vs_poly_fast.npy\n",
      "Neural Fast and Poly Fast QPSK EPP 8.4 dB SNR\n",
      "90% 3dB @symbols_sent = 404480\n",
      "\n",
      "private_preamble_QPSK_neural_fast_vs_neural_slow.npy\n",
      "Neural Fast and Neural Slow QPSK EPP 8.4 dB SNR\n",
      "90% 3dB @symbols_sent = 528384\n",
      "\n"
     ]
    }
   ],
   "source": [
    "must_include = ['QPSK', 'private', 'neural_fast']#, 'small']#['selfalien']#['shared', '8_4']\n",
    "must_exclude = ['pg', 'ppo', 'passing', 'snr']#['poly', 'selfalien']\n",
    "tabulate_fraction_trials(must_include, must_exclude)"
   ]
  },
  {
   "cell_type": "markdown",
   "metadata": {},
   "source": [
    "## Neural Slow EPP"
   ]
  },
  {
   "cell_type": "code",
   "execution_count": 5,
   "metadata": {
    "scrolled": false
   },
   "outputs": [
    {
     "name": "stdout",
     "output_type": "stream",
     "text": [
      "private_preamble_QPSK_neural_slow_vs_poly_fast.npy\n",
      "Neural Slow and Poly Fast QPSK EPP 8.4 dB SNR\n",
      "90% 3dB @symbols_sent = 768000\n",
      "\n",
      "private_preamble_QPSK_neural_slow_vs_neural_slow.npy\n",
      "Neural Slow and Neural Slow QPSK EPP 8.4 dB SNR\n",
      "90% 3dB @symbols_sent = 528384\n",
      "\n",
      "private_preamble_QPSK_neural_slow_vs_poly_slow.npy\n",
      "Neural Slow and Poly Slow QPSK EPP 8.4 dB SNR\n",
      "90% 3dB @symbols_sent = 690176\n",
      "\n",
      "private_preamble_QPSK_neural_slow_vs_classic.npy\n",
      "Neural Slow and Classic QPSK EPP 8.4 dB SNR\n",
      "90% 3dB @symbols_sent = 137728\n",
      "\n"
     ]
    }
   ],
   "source": [
    "must_include = ['QPSK', 'private', 'neural_slow_vs']#, 'small']#['selfalien']#['shared', '8_4']\n",
    "must_exclude = ['pg', 'ppo', 'passing', 'snr']#['poly', 'selfalien']\n",
    "tabulate_fraction_trials(must_include, must_exclude)"
   ]
  },
  {
   "cell_type": "markdown",
   "metadata": {},
   "source": [
    "## Poly Fast EPP"
   ]
  },
  {
   "cell_type": "code",
   "execution_count": 6,
   "metadata": {
    "scrolled": false
   },
   "outputs": [
    {
     "name": "stdout",
     "output_type": "stream",
     "text": [
      "private_preamble_QPSK_poly_fast_vs_classic.npy\n",
      "Poly Fast and Classic QPSK EPP 8.4 dB SNR\n",
      "90% 3dB @symbols_sent = 107520\n",
      "\n",
      "private_preamble_QPSK_poly_fast_vs_poly_fast.npy\n",
      "Poly Fast and Poly Fast QPSK EPP 8.4 dB SNR\n",
      "90% 3dB @symbols_sent = 528384\n",
      "\n",
      "private_preamble_QPSK_poly_fast_vs_poly_slow.npy\n",
      "Poly Fast and Poly Slow QPSK EPP 8.4 dB SNR\n",
      "90% 3dB @symbols_sent = 690176\n",
      "\n"
     ]
    }
   ],
   "source": [
    "must_include = ['QPSK', 'private', 'poly_fast_vs']#, 'small']#['selfalien']#['shared', '8_4']\n",
    "must_exclude = ['pg', 'ppo', 'passing', 'snr']#['poly', 'selfalien']\n",
    "tabulate_fraction_trials(must_include, must_exclude)"
   ]
  },
  {
   "cell_type": "markdown",
   "metadata": {},
   "source": [
    "## Poly Slow EPP"
   ]
  },
  {
   "cell_type": "code",
   "execution_count": 7,
   "metadata": {
    "scrolled": false
   },
   "outputs": [
    {
     "name": "stdout",
     "output_type": "stream",
     "text": [
      "private_preamble_QPSK_poly_slow_vs_classic.npy\n",
      "Poly Slow and Classic QPSK EPP 8.4 dB SNR\n",
      "90% 3dB @symbols_sent = 176640\n",
      "\n",
      "private_preamble_QPSK_poly_slow_vs_poly_slow.npy\n",
      "Poly Slow and Poly Slow QPSK EPP 8.4 dB SNR\n",
      "90% 3dB @symbols_sent = 690176\n",
      "\n"
     ]
    }
   ],
   "source": [
    "must_include = ['QPSK', 'private', 'poly_slow_vs']#, 'small']#['selfalien']#['shared', '8_4']\n",
    "must_exclude = ['pg', 'ppo', 'passing', 'snr']#['poly', 'selfalien']\n",
    "tabulate_fraction_trials(must_include, must_exclude)"
   ]
  },
  {
   "cell_type": "markdown",
   "metadata": {},
   "source": [
    "## ESP Classics"
   ]
  },
  {
   "cell_type": "code",
   "execution_count": 8,
   "metadata": {
    "scrolled": false
   },
   "outputs": [
    {
     "name": "stdout",
     "output_type": "stream",
     "text": [
      "shared_preamble_QPSK_poly_fast_vs_classic.npy\n",
      "Poly Fast and Classic QPSK ESP 8.4 dB SNR\n",
      "90% 3dB @symbols_sent = 105472\n",
      "\n",
      "shared_preamble_QPSK_neural_fast_vs_classic.npy\n",
      "Neural Fast and Classic QPSK ESP 8.4 dB SNR\n",
      "90% 3dB @symbols_sent = 19456\n",
      "\n"
     ]
    }
   ],
   "source": [
    "must_include = ['QPSK', 'shared', 'classic']#, 'small']#['selfalien']#['shared', '8_4']\n",
    "must_exclude = ['pg', 'ppo', 'passing', 'snr']#['poly', 'selfalien']\n",
    "tabulate_fraction_trials(must_include, must_exclude)"
   ]
  },
  {
   "cell_type": "markdown",
   "metadata": {},
   "source": [
    "## ESP Learners"
   ]
  },
  {
   "cell_type": "code",
   "execution_count": 9,
   "metadata": {
    "scrolled": false
   },
   "outputs": [
    {
     "name": "stdout",
     "output_type": "stream",
     "text": [
      "shared_preamble_QPSK_poly_fast_vs_poly_fast.npy\n",
      "Poly Fast and Poly Fast QPSK ESP 8.4 dB SNR\n",
      "90% 3dB @symbols_sent = 347648\n",
      "\n",
      "shared_preamble_QPSK_neural_fast_vs_poly_fast.npy\n",
      "Neural Fast and Poly Fast QPSK ESP 8.4 dB SNR\n",
      "90% 3dB @symbols_sent = 206336\n",
      "\n",
      "shared_preamble_QPSK_neural_fast_vs_neural_fast.npy\n",
      "Neural Fast and Neural Fast QPSK ESP 8.4 dB SNR\n",
      "90% 3dB @symbols_sent = 25600\n",
      "\n"
     ]
    }
   ],
   "source": [
    "must_include = ['QPSK', 'shared']#, 'small']#['selfalien']#['shared', '8_4']\n",
    "must_exclude = ['pg', 'ppo', 'passing', 'snr', 'classic']#['poly', 'selfalien']\n",
    "tabulate_fraction_trials(must_include, must_exclude)"
   ]
  },
  {
   "cell_type": "markdown",
   "metadata": {},
   "source": [
    "## LP and GP"
   ]
  },
  {
   "cell_type": "code",
   "execution_count": 10,
   "metadata": {},
   "outputs": [
    {
     "name": "stdout",
     "output_type": "stream",
     "text": [
      "loss_passing_QPSK_poly_fast_vs_classic.npy\n",
      "Poly Fast and Classic QPSK LP 8.4 dB SNR\n",
      "90% 3dB @symbols_sent = 9984\n",
      "\n",
      "gradient_passing_QPSK_neural_gp_vs_neural_gp.npy\n",
      "Neural Gp and Neural Gp QPSK GP 8.4 dB SNR\n",
      "90% 3dB @symbols_sent = 2048\n",
      "\n",
      "loss_passing_QPSK_poly_fast_vs_poly_fast.npy\n",
      "Poly Fast and Poly Fast QPSK LP 8.4 dB SNR\n",
      "90% 3dB @symbols_sent = 20736\n",
      "\n",
      "loss_passing_QPSK_neural_fast_vs_classic.npy\n",
      "Neural Fast and Classic QPSK LP 8.4 dB SNR\n",
      "90% 3dB @symbols_sent = 5888\n",
      "\n",
      "gradient_passing_QPSK_neural_gp_vs_classic.npy\n",
      "Neural Gp and Classic QPSK GP 8.4 dB SNR\n",
      "90% 3dB @symbols_sent = 2048\n",
      "\n",
      "loss_passing_QPSK_neural_fast_vs_neural_fast.npy\n",
      "Neural Fast and Neural Fast QPSK LP 8.4 dB SNR\n",
      "90% 3dB @symbols_sent = 2816\n",
      "\n",
      "gradient_passing_QPSK_poly_gp_vs_poly_gp.npy\n",
      "Poly Gp and Poly Gp QPSK GP 8.4 dB SNR\n",
      "90% 3dB @symbols_sent = 5632\n",
      "\n",
      "gradient_passing_QPSK_poly_gp_vs_classic.npy\n",
      "Poly Gp and Classic QPSK GP 8.4 dB SNR\n",
      "90% 3dB @symbols_sent = 3328\n",
      "\n"
     ]
    }
   ],
   "source": [
    "must_include = ['QPSK','passing']#, 'small']#['selfalien']#['shared', '8_4']\n",
    "must_exclude = ['pg', 'ppo', 'clone', 'selfalien','_low','high'] + [\"_\"+str(i) for i in range(20)]#['poly', 'selfalien']\n",
    "tabulate_fraction_trials(must_include, must_exclude)"
   ]
  },
  {
   "cell_type": "markdown",
   "metadata": {},
   "source": [
    "## Mod Orders"
   ]
  },
  {
   "cell_type": "code",
   "execution_count": 11,
   "metadata": {},
   "outputs": [
    {
     "name": "stdout",
     "output_type": "stream",
     "text": [
      "private_preamble_QAM16_neural_fast_vs_neural_fast.npy\n",
      "Neural Fast and Neural Fast QAM16 EPP 15 dB SNR\n",
      "90% 3dB @symbols_sent = 2734592\n",
      "\n",
      "private_preamble_QPSK_neural_fast_vs_neural_fast.npy\n",
      "Neural Fast and Neural Fast QPSK EPP 8.4 dB SNR\n",
      "90% 3dB @symbols_sent = 115200\n",
      "\n",
      "private_preamble_8PSK_neural_fast_vs_neural_fast.npy\n",
      "Neural Fast and Neural Fast 8PSK EPP 13.2 dB SNR\n",
      "90% 3dB @symbols_sent = 323072\n",
      "\n"
     ]
    }
   ],
   "source": [
    "must_include = ['private', 'neural_fast_vs_neural_fast']#, 'small']#['selfalien']#['shared', '8_4']\n",
    "must_exclude = ['pg', 'ppo', 'clone', 'selfalien','_low','high'] #['poly', 'selfalien']\n",
    "tabulate_fraction_trials(must_include, must_exclude)"
   ]
  },
  {
   "cell_type": "code",
   "execution_count": 12,
   "metadata": {},
   "outputs": [
    {
     "name": "stdout",
     "output_type": "stream",
     "text": [
      "shared_preamble_QPSK_neural_fast_vs_neural_fast.npy\n",
      "Neural Fast and Neural Fast QPSK ESP 8.4 dB SNR\n",
      "90% 3dB @symbols_sent = 25600\n",
      "\n",
      "shared_preamble_QAM16_neural_fast_vs_neural_fast.npy\n",
      "Neural Fast and Neural Fast QAM16 ESP 15 dB SNR\n",
      "90% 3dB @symbols_sent = 152064\n",
      "\n",
      "shared_preamble_8PSK_neural_fast_vs_neural_fast.npy\n",
      "Neural Fast and Neural Fast 8PSK ESP 13.2 dB SNR\n",
      "90% 3dB @symbols_sent = 39936\n",
      "\n"
     ]
    }
   ],
   "source": [
    "must_include = ['shared', 'neural_fast_vs_neural_fast']#, 'small']#['selfalien']#['shared', '8_4']\n",
    "must_exclude = ['pg', 'ppo', 'clone', 'selfalien','_low','high'] #['poly', 'selfalien']\n",
    "tabulate_fraction_trials(must_include, must_exclude)"
   ]
  },
  {
   "cell_type": "raw",
   "metadata": {},
   "source": [
    "must_include = ['private', 'neural_slow_vs_neural_slow']#, 'small']#['selfalien']#['shared', '8_4']\n",
    "must_exclude = ['pg', 'ppo', 'clone', 'selfalien','_low','high'] #['poly', 'selfalien']\n",
    "tabulate_fraction_trials(must_include, must_exclude)"
   ]
  },
  {
   "cell_type": "markdown",
   "metadata": {},
   "source": [
    "## Train SNRs"
   ]
  },
  {
   "cell_type": "code",
   "execution_count": 17,
   "metadata": {},
   "outputs": [
    {
     "name": "stdout",
     "output_type": "stream",
     "text": [
      "private_preamble_QPSK_neural_vs_neural_mid_snr.npy\n",
      "Neural and Neural Mid SNR QPSK EPP 8.4 dB SNR\n",
      "90% 3dB @symbols_sent = 404480\n",
      "\n",
      "Max fraction achieved 1.000 @ 1536000 symbols\n",
      "\n",
      "private_preamble_QPSK_neural_vs_neural_low_snr.npy\n",
      "Neural and Neural Low SNR QPSK EPP 4.2 dB SNR\n",
      "90% 3dB @symbols_sent = 901120\n",
      "\n",
      "Max fraction achieved 0.960 @ 1536000 symbols\n",
      "\n",
      "private_preamble_QPSK_neural_vs_neural_high_snr.npy\n",
      "Neural and Neural High SNR QPSK EPP 13 dB SNR\n",
      "90% 3dB @symbols_sent = 309760\n",
      "\n",
      "Max fraction achieved 0.960 @ 1536000 symbols\n",
      "\n"
     ]
    }
   ],
   "source": [
    "must_include = ['QPSK', 'private', 'snr']#, 'small']#['selfalien']#['shared', '8_4']\n",
    "must_exclude = ['pg', 'ppo', 'clone', 'selfalien', 'fast'] #['poly', 'selfalien']\n",
    "tabulate_fraction_trials(must_include, must_exclude)"
   ]
  },
  {
   "cell_type": "code",
   "execution_count": null,
   "metadata": {},
   "outputs": [],
   "source": []
  },
  {
   "cell_type": "code",
   "execution_count": null,
   "metadata": {},
   "outputs": [],
   "source": []
  }
 ],
 "metadata": {
  "anaconda-cloud": {},
  "kernelspec": {
   "display_name": "Python 3",
   "language": "python",
   "name": "python3"
  },
  "language_info": {
   "codemirror_mode": {
    "name": "ipython",
    "version": 3
   },
   "file_extension": ".py",
   "mimetype": "text/x-python",
   "name": "python",
   "nbconvert_exporter": "python",
   "pygments_lexer": "ipython3",
   "version": "3.6.8"
  }
 },
 "nbformat": 4,
 "nbformat_minor": 2
}
